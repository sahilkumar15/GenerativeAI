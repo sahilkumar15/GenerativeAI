{
 "cells": [
  {
   "cell_type": "code",
   "execution_count": 8,
   "metadata": {},
   "outputs": [],
   "source": [
    "import requests\n",
    "from langchain.document_loaders import TextLoader\n",
    "from langchain.text_splitter import CharacterTextSplitter\n",
    "from langchain.text_splitter import CharacterTextSplitter\n",
    "\n",
    "\n",
    "from langchain.embeddings import OpenAIEmbeddings\n",
    "from langchain.vectorstores import Weaviate\n",
    "import weaviate\n",
    "from weaviate.embedded import EmbeddedOptions\n",
    "\n",
    "import os\n",
    "from dotenv import load_dotenv\n"
   ]
  },
  {
   "cell_type": "code",
   "execution_count": 2,
   "metadata": {},
   "outputs": [
    {
     "data": {
      "text/plain": [
       "'d:\\\\iNeuron\\\\GenAI\\\\GenerativeAI\\\\Rag_from_scratch'"
      ]
     },
     "execution_count": 2,
     "metadata": {},
     "output_type": "execute_result"
    }
   ],
   "source": [
    "os.getcwd()"
   ]
  },
  {
   "cell_type": "code",
   "execution_count": 3,
   "metadata": {},
   "outputs": [],
   "source": [
    "url = \"https://raw.githubusercontent.com/sahilkumar15/Research_Work/main/New_Train_QA_Pairs.csv\"\n",
    "res=requests.get(url)\n",
    "# res.text"
   ]
  },
  {
   "cell_type": "code",
   "execution_count": 4,
   "metadata": {},
   "outputs": [],
   "source": [
    "# Define the directory path\n",
    "# directory_path = 'd:\\\\iNeuron\\\\GenAI\\\\GenerativeAI\\\\Rag_from_scratch'\n",
    "directory_path = os.getcwd()\n",
    "\n",
    "# Define the file path\n",
    "file_path = os.path.join(directory_path, \"state_of_the_union.txt\")\n",
    "\n",
    "# Open the file in write mode and write the content\n",
    "with open(file_path, \"w\") as f:\n",
    "    f.write(res.text)"
   ]
  },
  {
   "cell_type": "code",
   "execution_count": 5,
   "metadata": {},
   "outputs": [],
   "source": [
    "loader=TextLoader(\"state_of_the_union.txt\")\n",
    "documents=loader.load()"
   ]
  },
  {
   "cell_type": "code",
   "execution_count": 6,
   "metadata": {},
   "outputs": [
    {
     "data": {
      "text/plain": [
       "'What university was Dr. Tim Valshtein associated with before joining Yeshiva University?,Dr. Tim Valshtein was associated with Harvard University before joining Yeshiva University.\\n\\nWhat is Steve Mayer\\'s role at the Sy Syms School of Business in 2023?,Mayer is a fulltime clinical assistant professor.\\n\\n\"Where did Steve Mayer graduate from, and in which field?\",Steve Mayer graduated from Baruch College with a degree in accounting.\\n\\nWhat is YU?,YU refers to Yeshiva University.\\n\\n\"When did Steve Mayer begin his career, and where?\",Steve Mayer began his career in 1980 at Goldstein Golub Kessler LLP.\\n\\n\"Where did Dr. Valshtein complete his Ph.D., and what was his role at Harvard University?\",\"Dr. Tim Valshtein completed his Ph.D. at New York University, and at Harvard University, he served as a College Fellow in the psychology department.\"'"
      ]
     },
     "execution_count": 6,
     "metadata": {},
     "output_type": "execute_result"
    }
   ],
   "source": [
    "\n",
    "text_splitter=CharacterTextSplitter(chunk_size=1000,chunk_overlap=50)\n",
    "chunks=text_splitter.split_documents(documents)\n",
    "chunks[2].page_content"
   ]
  },
  {
   "cell_type": "code",
   "execution_count": 7,
   "metadata": {},
   "outputs": [
    {
     "data": {
      "text/plain": [
       "2178"
      ]
     },
     "execution_count": 7,
     "metadata": {},
     "output_type": "execute_result"
    }
   ],
   "source": [
    "len(chunks)"
   ]
  },
  {
   "cell_type": "code",
   "execution_count": 10,
   "metadata": {},
   "outputs": [],
   "source": [
    "# Load environment variables from .env file\n",
    "load_dotenv()\n",
    "\n",
    "# Retrieve the OPENAI_API_KEY\n",
    "OPENAI_API_KEY = os.getenv(\"OPENAI_API_KEY\")\n",
    "# print(OPENAI_API_KEY)\n"
   ]
  },
  {
   "cell_type": "code",
   "execution_count": 11,
   "metadata": {},
   "outputs": [
    {
     "name": "stderr",
     "output_type": "stream",
     "text": [
      "c:\\Users\\sahil\\.conda\\envs\\genai\\Lib\\site-packages\\weaviate\\warnings.py:162: DeprecationWarning: Dep016: Python client v3 `weaviate.Client(...)` connections and methods are deprecated. Update\n",
      "            your code to use Python client v4 `weaviate.WeaviateClient` connections and methods.\n",
      "\n",
      "            For Python Client v4 usage, see: https://weaviate.io/developers/weaviate/client-libraries/python\n",
      "            For code migration, see: https://weaviate.io/developers/weaviate/client-libraries/python/v3_v4_migration\n",
      "            \n",
      "  warnings.warn(\n"
     ]
    },
    {
     "ename": "WeaviateStartUpError",
     "evalue": "Windows is not supported with Embedded. Please upvote this feature request if you want this: https://github.com/weaviate/weaviate/issues/3315",
     "output_type": "error",
     "traceback": [
      "\u001b[1;31m---------------------------------------------------------------------------\u001b[0m",
      "\u001b[1;31mWeaviateStartUpError\u001b[0m                      Traceback (most recent call last)",
      "Cell \u001b[1;32mIn[11], line 1\u001b[0m\n\u001b[1;32m----> 1\u001b[0m client\u001b[38;5;241m=\u001b[39m\u001b[43mweaviate\u001b[49m\u001b[38;5;241;43m.\u001b[39;49m\u001b[43mClient\u001b[49m\u001b[43m(\u001b[49m\n\u001b[0;32m      2\u001b[0m \u001b[43m    \u001b[49m\u001b[43membedded_options\u001b[49m\u001b[38;5;241;43m=\u001b[39;49m\u001b[43mEmbeddedOptions\u001b[49m\u001b[43m(\u001b[49m\u001b[43m)\u001b[49m\n\u001b[0;32m      3\u001b[0m \u001b[43m)\u001b[49m\n",
      "File \u001b[1;32mc:\\Users\\sahil\\.conda\\envs\\genai\\Lib\\site-packages\\weaviate\\client.py:444\u001b[0m, in \u001b[0;36mClient.__init__\u001b[1;34m(self, url, auth_client_secret, timeout_config, proxies, trust_env, additional_headers, startup_period, embedded_options, additional_config)\u001b[0m\n\u001b[0;32m    441\u001b[0m _Warnings\u001b[38;5;241m.\u001b[39mweaviate_v3_client_is_deprecated()\n\u001b[0;32m    443\u001b[0m config \u001b[38;5;241m=\u001b[39m Config() \u001b[38;5;28;01mif\u001b[39;00m additional_config \u001b[38;5;129;01mis\u001b[39;00m \u001b[38;5;28;01mNone\u001b[39;00m \u001b[38;5;28;01melse\u001b[39;00m additional_config\n\u001b[1;32m--> 444\u001b[0m url, embedded_db \u001b[38;5;241m=\u001b[39m \u001b[38;5;28;43mself\u001b[39;49m\u001b[38;5;241;43m.\u001b[39;49m\u001b[43m__parse_url_and_embedded_db\u001b[49m\u001b[43m(\u001b[49m\u001b[43murl\u001b[49m\u001b[43m,\u001b[49m\u001b[43m \u001b[49m\u001b[43membedded_options\u001b[49m\u001b[43m)\u001b[49m\n\u001b[0;32m    446\u001b[0m \u001b[38;5;28mself\u001b[39m\u001b[38;5;241m.\u001b[39m_connection \u001b[38;5;241m=\u001b[39m Connection(\n\u001b[0;32m    447\u001b[0m     url\u001b[38;5;241m=\u001b[39murl,\n\u001b[0;32m    448\u001b[0m     auth_client_secret\u001b[38;5;241m=\u001b[39mauth_client_secret,\n\u001b[1;32m   (...)\u001b[0m\n\u001b[0;32m    456\u001b[0m     connection_config\u001b[38;5;241m=\u001b[39mconfig\u001b[38;5;241m.\u001b[39mconnection_config,\n\u001b[0;32m    457\u001b[0m )\n\u001b[0;32m    458\u001b[0m \u001b[38;5;28mself\u001b[39m\u001b[38;5;241m.\u001b[39mclassification \u001b[38;5;241m=\u001b[39m Classification(\u001b[38;5;28mself\u001b[39m\u001b[38;5;241m.\u001b[39m_connection)\n",
      "File \u001b[1;32mc:\\Users\\sahil\\.conda\\envs\\genai\\Lib\\site-packages\\weaviate\\client.py:478\u001b[0m, in \u001b[0;36mClient.__parse_url_and_embedded_db\u001b[1;34m(self, url, embedded_options)\u001b[0m\n\u001b[0;32m    473\u001b[0m     \u001b[38;5;28;01mraise\u001b[39;00m \u001b[38;5;167;01mTypeError\u001b[39;00m(\n\u001b[0;32m    474\u001b[0m         \u001b[38;5;124mf\u001b[39m\u001b[38;5;124m\"\u001b[39m\u001b[38;5;124mURL is not expected to be set when using embedded_options but URL was \u001b[39m\u001b[38;5;132;01m{\u001b[39;00murl\u001b[38;5;132;01m}\u001b[39;00m\u001b[38;5;124m\"\u001b[39m\n\u001b[0;32m    475\u001b[0m     )\n\u001b[0;32m    477\u001b[0m \u001b[38;5;28;01mif\u001b[39;00m embedded_options \u001b[38;5;129;01mis\u001b[39;00m \u001b[38;5;129;01mnot\u001b[39;00m \u001b[38;5;28;01mNone\u001b[39;00m:\n\u001b[1;32m--> 478\u001b[0m     embedded_db \u001b[38;5;241m=\u001b[39m \u001b[43mEmbeddedV3\u001b[49m\u001b[43m(\u001b[49m\u001b[43moptions\u001b[49m\u001b[38;5;241;43m=\u001b[39;49m\u001b[43membedded_options\u001b[49m\u001b[43m)\u001b[49m\n\u001b[0;32m    479\u001b[0m     embedded_db\u001b[38;5;241m.\u001b[39mstart()\n\u001b[0;32m    480\u001b[0m     \u001b[38;5;28;01mreturn\u001b[39;00m \u001b[38;5;124mf\u001b[39m\u001b[38;5;124m\"\u001b[39m\u001b[38;5;124mhttp://localhost:\u001b[39m\u001b[38;5;132;01m{\u001b[39;00membedded_db\u001b[38;5;241m.\u001b[39moptions\u001b[38;5;241m.\u001b[39mport\u001b[38;5;132;01m}\u001b[39;00m\u001b[38;5;124m\"\u001b[39m, embedded_db\n",
      "File \u001b[1;32mc:\\Users\\sahil\\.conda\\envs\\genai\\Lib\\site-packages\\weaviate\\embedded.py:59\u001b[0m, in \u001b[0;36m_EmbeddedBase.__init__\u001b[1;34m(self, options)\u001b[0m\n\u001b[0;32m     57\u001b[0m \u001b[38;5;28mself\u001b[39m\u001b[38;5;241m.\u001b[39mprocess: Optional[subprocess\u001b[38;5;241m.\u001b[39mPopen[\u001b[38;5;28mbytes\u001b[39m]] \u001b[38;5;241m=\u001b[39m \u001b[38;5;28;01mNone\u001b[39;00m\n\u001b[0;32m     58\u001b[0m \u001b[38;5;28mself\u001b[39m\u001b[38;5;241m.\u001b[39mensure_paths_exist()\n\u001b[1;32m---> 59\u001b[0m \u001b[38;5;28;43mself\u001b[39;49m\u001b[38;5;241;43m.\u001b[39;49m\u001b[43mcheck_supported_platform\u001b[49m\u001b[43m(\u001b[49m\u001b[43m)\u001b[49m\n\u001b[0;32m     60\u001b[0m \u001b[38;5;28mself\u001b[39m\u001b[38;5;241m.\u001b[39m_parsed_weaviate_version \u001b[38;5;241m=\u001b[39m \u001b[38;5;124m\"\u001b[39m\u001b[38;5;124m\"\u001b[39m\n\u001b[0;32m     61\u001b[0m \u001b[38;5;66;03m# regular expression to detect a version number: v[one digit].[1-2 digits].[1-2 digits]\u001b[39;00m\n\u001b[0;32m     62\u001b[0m \u001b[38;5;66;03m# optionally there can be a \"-rc/alpha/beta.[1-2 digits]\"\u001b[39;00m\n\u001b[0;32m     63\u001b[0m \u001b[38;5;66;03m# nothing in front or back\u001b[39;00m\n",
      "File \u001b[1;32mc:\\Users\\sahil\\.conda\\envs\\genai\\Lib\\site-packages\\weaviate\\embedded.py:177\u001b[0m, in \u001b[0;36m_EmbeddedBase.check_supported_platform\u001b[1;34m()\u001b[0m\n\u001b[0;32m    174\u001b[0m \u001b[38;5;129m@staticmethod\u001b[39m\n\u001b[0;32m    175\u001b[0m \u001b[38;5;28;01mdef\u001b[39;00m \u001b[38;5;21mcheck_supported_platform\u001b[39m() \u001b[38;5;241m-\u001b[39m\u001b[38;5;241m>\u001b[39m \u001b[38;5;28;01mNone\u001b[39;00m:\n\u001b[0;32m    176\u001b[0m     \u001b[38;5;28;01mif\u001b[39;00m platform\u001b[38;5;241m.\u001b[39msystem() \u001b[38;5;129;01min\u001b[39;00m [\u001b[38;5;124m\"\u001b[39m\u001b[38;5;124mWindows\u001b[39m\u001b[38;5;124m\"\u001b[39m]:\n\u001b[1;32m--> 177\u001b[0m         \u001b[38;5;28;01mraise\u001b[39;00m WeaviateStartUpError(\n\u001b[0;32m    178\u001b[0m             \u001b[38;5;124mf\u001b[39m\u001b[38;5;124m\"\u001b[39m\u001b[38;5;132;01m{\u001b[39;00mplatform\u001b[38;5;241m.\u001b[39msystem()\u001b[38;5;132;01m}\u001b[39;00m\u001b[38;5;124m is not supported with Embedded. Please upvote this feature request if \u001b[39m\u001b[38;5;124m\"\u001b[39m\n\u001b[0;32m    179\u001b[0m             \u001b[38;5;124mf\u001b[39m\u001b[38;5;124m\"\u001b[39m\u001b[38;5;124myou want this: https://github.com/weaviate/weaviate/issues/3315\u001b[39m\u001b[38;5;124m\"\u001b[39m\n\u001b[0;32m    180\u001b[0m         )\n",
      "\u001b[1;31mWeaviateStartUpError\u001b[0m: Windows is not supported with Embedded. Please upvote this feature request if you want this: https://github.com/weaviate/weaviate/issues/3315"
     ]
    }
   ],
   "source": [
    "client=weaviate.Client(\n",
    "    embedded_options=EmbeddedOptions()\n",
    ")"
   ]
  },
  {
   "cell_type": "code",
   "execution_count": null,
   "metadata": {},
   "outputs": [],
   "source": []
  }
 ],
 "metadata": {
  "kernelspec": {
   "display_name": "genai",
   "language": "python",
   "name": "python3"
  },
  "language_info": {
   "codemirror_mode": {
    "name": "ipython",
    "version": 3
   },
   "file_extension": ".py",
   "mimetype": "text/x-python",
   "name": "python",
   "nbconvert_exporter": "python",
   "pygments_lexer": "ipython3",
   "version": "3.11.8"
  }
 },
 "nbformat": 4,
 "nbformat_minor": 2
}
