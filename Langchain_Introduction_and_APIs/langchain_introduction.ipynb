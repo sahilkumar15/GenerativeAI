{
 "cells": [
  {
   "cell_type": "code",
   "execution_count": 1,
   "metadata": {},
   "outputs": [
    {
     "name": "stdout",
     "output_type": "stream",
     "text": [
      "Ok!\n"
     ]
    }
   ],
   "source": [
    "import langchain\n",
    "from dotenv import load_dotenv\n",
    "import os\n",
    "import openai\n",
    "from langchain.llms import OpenAI\n",
    "\n",
    "from langchain import HuggingFaceHub\n",
    "\n",
    "from langchain_google_genai import ChatGoogleGenerativeAI\n",
    "print(\"Ok!\")"
   ]
  },
  {
   "cell_type": "code",
   "execution_count": 2,
   "metadata": {},
   "outputs": [
    {
     "data": {
      "text/plain": [
       "True"
      ]
     },
     "execution_count": 2,
     "metadata": {},
     "output_type": "execute_result"
    }
   ],
   "source": [
    "# Take envionment variable from .env\n",
    "load_dotenv()"
   ]
  },
  {
   "cell_type": "markdown",
   "metadata": {},
   "source": [
    "# Huggingface hub using langchain"
   ]
  },
  {
   "cell_type": "code",
   "execution_count": 3,
   "metadata": {},
   "outputs": [],
   "source": [
    "HUGGINGFACE_TOKEN = os.getenv(\"HUGGINGFACE_TOKEN\")\n",
    "# HUGGING_API_TOKEN = os.environ.get('HuGGINGFACE_TOKEN')\n",
    "# HUGGINGFACE_TOKEN"
   ]
  },
  {
   "cell_type": "code",
   "execution_count": 4,
   "metadata": {},
   "outputs": [],
   "source": [
    "# Model Id and api url\n",
    "# model_id = \"google/gemma-7b\"\n",
    "# model_id = \"mistralai/Mixtral-8x7B-Instruct-v0.1\"\n",
    "# model_id = \"mistralai/Mistral-7B-v0.1\"\n",
    "# model_id = \"meta-llama/Llama-2-7b\"\n",
    "# model_id = \"HuggingFaceH4/zephyr-7b-gemma-v0.1\"\n",
    "# model_id = \"HuggingFaceH4/zephyr-7b-beta\"\n",
    "model_id = \"google/flan-t5-large\"\n",
    "model_id2 = \"mistralai/Mistral-7B-Instruct-v0.2\""
   ]
  },
  {
   "cell_type": "code",
   "execution_count": 5,
   "metadata": {},
   "outputs": [],
   "source": [
    "# # Import the new class from langchain_community\n",
    "# from langchain_community.llms.huggingface_endpoint import HuggingFaceEndpoint\n",
    "\n",
    "# # Use the new class\n",
    "# llm2 = HuggingFaceEndpoint(repo_id=model_id, huggingfacehub_api_token=HUGGINGFACE_TOKEN)\n",
    "# # llm2\n"
   ]
  },
  {
   "cell_type": "code",
   "execution_count": 6,
   "metadata": {},
   "outputs": [
    {
     "name": "stderr",
     "output_type": "stream",
     "text": [
      "c:\\Users\\sahil\\.conda\\envs\\genai\\Lib\\site-packages\\langchain_core\\_api\\deprecation.py:117: LangChainDeprecationWarning: The class `langchain_community.llms.huggingface_hub.HuggingFaceHub` was deprecated in langchain-community 0.0.21 and will be removed in 0.2.0. Use HuggingFaceEndpoint instead.\n",
      "  warn_deprecated(\n"
     ]
    }
   ],
   "source": [
    "llm2 = HuggingFaceHub(repo_id=model_id, huggingfacehub_api_token=HUGGINGFACE_TOKEN)\n"
   ]
  },
  {
   "cell_type": "code",
   "execution_count": 7,
   "metadata": {},
   "outputs": [
    {
     "name": "stdout",
     "output_type": "stream",
     "text": [
      "'  ?'\n"
     ]
    }
   ],
   "source": [
    "text2 =  \"'How old are you?' Please translate it in hindi\"\n",
    "print(llm2.invoke(text2))"
   ]
  },
  {
   "cell_type": "code",
   "execution_count": 8,
   "metadata": {},
   "outputs": [],
   "source": [
    "llm3 = HuggingFaceHub(repo_id=model_id2, huggingfacehub_api_token=HUGGINGFACE_TOKEN)"
   ]
  },
  {
   "cell_type": "code",
   "execution_count": 9,
   "metadata": {},
   "outputs": [
    {
     "name": "stdout",
     "output_type": "stream",
     "text": [
      "'How old are you?' Please translate it in hindi.\n",
      "\n",
      "The question \"How old are you?\" can be translated into Hindi as \"आपका उस साल किताब कैसे है?\" (Aapka us saal kitab kaise hai?). This question is asking about someone's age, using the metaphor of a book to represent the passage of time. The phrase \"us saal\" refers to \"that year\" or \"that\n"
     ]
    }
   ],
   "source": [
    "print(llm3.invoke(text2))"
   ]
  },
  {
   "cell_type": "code",
   "execution_count": 10,
   "metadata": {},
   "outputs": [
    {
     "name": "stdout",
     "output_type": "stream",
     "text": [
      "What is the capital city of United State of America?\n",
      "\n",
      "The United States of America does not have a capital city as it is a federal republic made up of 50 states. Each state has its own capital city. The federal government, however, is based in Washington, D.C. (District of Columbia), which is not a state but a federal district. Washington, D.C. is often referred to as the \"capital city\" of the United States, but technically it is not a state capital.\n"
     ]
    }
   ],
   "source": [
    "text3 = \"What is the capital city of United State\"\n",
    "print(llm3.invoke(text3))"
   ]
  },
  {
   "cell_type": "code",
   "execution_count": 11,
   "metadata": {},
   "outputs": [
    {
     "name": "stdout",
     "output_type": "stream",
     "text": [
      "What is the capital city of India?\n",
      "\n",
      "New Delhi\n",
      "\n",
      "New Delhi is the capital city of India. It is located in the northern part of India and is a major commercial, political, and cultural hub. The city is known for its rich history, diverse population, and vibrant street life. Some of the popular tourist attractions in New Delhi include the Red Fort, Qutub Minar, Humayun's Tomb, and India Gate. The city is also home to several museums, art g\n"
     ]
    }
   ],
   "source": [
    "text3 = \"What is the capital city of India\"\n",
    "print(llm3.invoke(text3))"
   ]
  },
  {
   "cell_type": "code",
   "execution_count": 12,
   "metadata": {},
   "outputs": [
    {
     "name": "stdout",
     "output_type": "stream",
     "text": [
      "Can you give me 200 lines of summary on the capital of India, New Delhi?\n",
      "\n",
      "New Delhi, the capital city of India, is a vibrant and bustling metropolis that seamlessly blends the old and the new. It is located in the northern part of India, in the National Capital Territory of Delhi. New Delhi is not a single entity but a city built over several centuries with a rich history and diverse cultural influences.\n",
      "\n",
      "The city was founded in 1911 by the British Raj as the capital of India to\n"
     ]
    }
   ],
   "source": [
    "text4 = \"Can you give me 200 lines of summary on the capital of India\"\n",
    "print(llm3.invoke(text4))"
   ]
  },
  {
   "cell_type": "markdown",
   "metadata": {},
   "source": [
    "# OpenAI api using langchain"
   ]
  },
  {
   "cell_type": "code",
   "execution_count": 13,
   "metadata": {},
   "outputs": [],
   "source": [
    "# OPEN_API_KEY = os.environ.get('OPEN_API_KEY')\n",
    "OPEN_API_KEY = os.getenv(\"OPEN_API_KEY\")\n",
    "# OPEN_API_KEY"
   ]
  },
  {
   "cell_type": "code",
   "execution_count": 14,
   "metadata": {},
   "outputs": [
    {
     "name": "stderr",
     "output_type": "stream",
     "text": [
      "c:\\Users\\sahil\\.conda\\envs\\genai\\Lib\\site-packages\\langchain_core\\_api\\deprecation.py:117: LangChainDeprecationWarning: The class `langchain_community.llms.openai.OpenAI` was deprecated in langchain-community 0.0.10 and will be removed in 0.2.0. An updated version of the class exists in the langchain-openai package and should be used instead. To use it run `pip install -U langchain-openai` and import as `from langchain_openai import OpenAI`.\n",
      "  warn_deprecated(\n"
     ]
    }
   ],
   "source": [
    "llm = OpenAI(api_key=OPEN_API_KEY)"
   ]
  },
  {
   "cell_type": "code",
   "execution_count": 15,
   "metadata": {},
   "outputs": [],
   "source": [
    "text = \" can you tell me about the chaina\""
   ]
  },
  {
   "cell_type": "code",
   "execution_count": 16,
   "metadata": {},
   "outputs": [
    {
     "name": "stdout",
     "output_type": "stream",
     "text": [
      "\n",
      "\n",
      "China is a country located in East Asia. It is the world's most populous country, with a population of over 1.4 billion people. China has a long and rich history, dating back over 5,000 years. It is known for its ancient civilization, dynasties, and cultural landmarks such as the Great Wall, the Forbidden City, and the Terracotta Army.\n",
      "\n",
      "In recent years, China has undergone rapid economic growth and development, becoming the world's second-largest economy. It is a major global player in industries such as manufacturing, technology, and finance. China is also a major exporter and trade partner to many countries around the world.\n",
      "\n",
      "The official language of China is Mandarin Chinese, and the currency is the Chinese Yuan. The country has a unique political system, with the Communist Party of China holding control over the government.\n",
      "\n",
      "China is a diverse country, with a variety of ethnic groups and cultures. The majority of the population follows Buddhism, but there are also significant numbers of Christians, Muslims, and followers of other religions.\n",
      "\n",
      "Some of China's notable cultural contributions include Chinese cuisine, traditional medicine, martial arts, and calligraphy. The country also hosts a number of internationally renowned festivals, such as the Chinese New Year and the Dragon Boat Festival.\n",
      "\n",
      "However\n"
     ]
    }
   ],
   "source": [
    "print(llm.invoke(text))"
   ]
  },
  {
   "cell_type": "code",
   "execution_count": null,
   "metadata": {},
   "outputs": [],
   "source": []
  },
  {
   "cell_type": "code",
   "execution_count": null,
   "metadata": {},
   "outputs": [],
   "source": []
  },
  {
   "cell_type": "markdown",
   "metadata": {},
   "source": [
    "# Gemini api using langchain"
   ]
  },
  {
   "cell_type": "code",
   "execution_count": 17,
   "metadata": {},
   "outputs": [],
   "source": [
    "GEMINI_API_KEY = os.environ.get('GOOGLE_API_KEY')\n",
    "# GEMINI_API_KEY = os.getenv(\"GOOGLE_API_KEY\")\n",
    "# GEMINI_API_KEY"
   ]
  },
  {
   "cell_type": "code",
   "execution_count": 20,
   "metadata": {},
   "outputs": [],
   "source": [
    "import google.generativeai as genai"
   ]
  },
  {
   "cell_type": "code",
   "execution_count": 21,
   "metadata": {},
   "outputs": [],
   "source": [
    "genai.configure(api_key=GEMINI_API_KEY)"
   ]
  },
  {
   "cell_type": "code",
   "execution_count": 27,
   "metadata": {},
   "outputs": [
    {
     "name": "stdout",
     "output_type": "stream",
     "text": [
      "models/gemini-1.0-pro\n",
      "models/gemini-1.0-pro-001\n",
      "models/gemini-1.0-pro-latest\n",
      "models/gemini-1.0-pro-vision-latest\n",
      "models/gemini-pro\n",
      "models/gemini-pro-vision\n"
     ]
    }
   ],
   "source": [
    "for models in genai.list_models():\n",
    "    if \"generateContent\" in models.supported_generation_methods:\n",
    "        print(models.name)"
   ]
  },
  {
   "cell_type": "code",
   "execution_count": 39,
   "metadata": {},
   "outputs": [],
   "source": [
    "gemini_model = \"gemini-1.0-pro\"\n",
    "# gemini_model = \"gemini-pro-vision\"\n",
    "# gemini_model = \"gemini-pro\"\n",
    "# gemini_model = \"gemini-1.0-pro-vision-latest\"\n",
    "\n",
    "\n",
    "\n",
    "llm4 = ChatGoogleGenerativeAI(model=gemini_model, google_api_key=GEMINI_API_KEY)"
   ]
  },
  {
   "cell_type": "code",
   "execution_count": 40,
   "metadata": {},
   "outputs": [
    {
     "data": {
      "text/plain": [
       "'Washington, D.C.'"
      ]
     },
     "execution_count": 40,
     "metadata": {},
     "output_type": "execute_result"
    }
   ],
   "source": [
    "text5 = \"what is the capital of USA?\"\n",
    "llm4.invoke(text5).content"
   ]
  },
  {
   "cell_type": "code",
   "execution_count": null,
   "metadata": {},
   "outputs": [],
   "source": []
  }
 ],
 "metadata": {
  "kernelspec": {
   "display_name": "genai",
   "language": "python",
   "name": "python3"
  },
  "language_info": {
   "codemirror_mode": {
    "name": "ipython",
    "version": 3
   },
   "file_extension": ".py",
   "mimetype": "text/x-python",
   "name": "python",
   "nbconvert_exporter": "python",
   "pygments_lexer": "ipython3",
   "version": "3.11.8"
  }
 },
 "nbformat": 4,
 "nbformat_minor": 2
}
